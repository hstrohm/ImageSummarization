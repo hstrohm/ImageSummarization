{
 "cells": [
  {
   "cell_type": "code",
   "execution_count": 26,
   "metadata": {},
   "outputs": [
    {
     "name": "stdout",
     "output_type": "stream",
     "text": [
      "cuda:0\n"
     ]
    }
   ],
   "source": [
    "# FOR MASK RCNN / COCO -----------------------------------------\n",
    "# run this - needed for the Coco Dataset \n",
    "# pip install git+https://github.com/philferriere/cocoapi.git#subdirectory=PythonAPI\n",
    "# repo for it: https://github.com/philferriere/cocoapi\n",
    " \n",
    "# http://cocodataset.org/#download\n",
    "# from above, download 2017 Train/Val annotations\n",
    "# 2017 Val images\n",
    "# put it in a folder named 'data' or edit dataset cell (last one w/code) \n",
    "\n",
    "import torch\n",
    "from torchvision import models, transforms\n",
    "import torchvision\n",
    "from torch.utils.data import DataLoader\n",
    "\n",
    "from pycocotools.coco import COCO\n",
    "\n",
    "import pandas as pd\n",
    "import matplotlib.pyplot as plt\n",
    "import matplotlib\n",
    "import numpy as np\n",
    "\n",
    "%matplotlib inline\n",
    "\n",
    "# Gets the GPU if there is one\n",
    "device = torch.device(\"cuda:0\" if torch.cuda.is_available() else \"cpu\")\n",
    "print(device)"
   ]
  },
  {
   "cell_type": "markdown",
   "metadata": {},
   "source": [
    "# Mask R-CNN"
   ]
  },
  {
   "cell_type": "code",
   "execution_count": 2,
   "metadata": {
    "scrolled": true
   },
   "outputs": [],
   "source": [
    "# https://pytorch.org/docs/stable/torchvision/models.html#object-detection-instance-segmentation-and-person-keypoint-detection\n",
    "network = torchvision.models.detection.maskrcnn_resnet50_fpn(pretrained=True)\n",
    "\n",
    "# fasterrcnn_resnet50_fpn instead??\n",
    "network.eval();"
   ]
  },
  {
   "cell_type": "code",
   "execution_count": 3,
   "metadata": {
    "scrolled": true
   },
   "outputs": [
    {
     "name": "stdout",
     "output_type": "stream",
     "text": [
      "loading annotations into memory...\n",
      "Done (t=2.10s)\n",
      "creating index...\n",
      "index created!\n"
     ]
    }
   ],
   "source": [
    "coco_val = torchvision.datasets.CocoDetection(\"data/val2017\", annFile=\"data/annotations/instances_val2017.json\",\n",
    "                                             transform=transforms.ToTensor())\n",
    "\n",
    "labels = ['__background__', 'person', 'bicycle', 'car', 'motorcycle', 'airplane', 'bus',\n",
    "    'train', 'truck', 'boat', 'traffic light', 'fire hydrant', 'N/A', 'stop sign',\n",
    "    'parking meter', 'bench', 'bird', 'cat', 'dog', 'horse', 'sheep', 'cow',\n",
    "    'elephant', 'bear', 'zebra', 'giraffe', 'N/A', 'backpack', 'umbrella', 'N/A', 'N/A',\n",
    "    'handbag', 'tie', 'suitcase', 'frisbee', 'skis', 'snowboard', 'sports ball',\n",
    "    'kite', 'baseball bat', 'baseball glove', 'skateboard', 'surfboard', 'tennis racket',\n",
    "    'bottle', 'N/A', 'wine glass', 'cup', 'fork', 'knife', 'spoon', 'bowl',\n",
    "    'banana', 'apple', 'sandwich', 'orange', 'broccoli', 'carrot', 'hot dog', 'pizza',\n",
    "    'donut', 'cake', 'chair', 'couch', 'potted plant', 'bed', 'N/A', 'dining table',\n",
    "    'N/A', 'N/A', 'toilet', 'N/A', 'tv', 'laptop', 'mouse', 'remote', 'keyboard', 'cell phone',\n",
    "    'microwave', 'oven', 'toaster', 'sink', 'refrigerator', 'N/A', 'book',\n",
    "    'clock', 'vase', 'scissors', 'teddy bear', 'hair drier', 'toothbrush'\n",
    "]\n",
    "len(labels)"
   ]
  },
  {
   "cell_type": "code",
   "execution_count": 4,
   "metadata": {},
   "outputs": [],
   "source": [
    "# https://pytorch.org/tutorials/intermediate/torchvision_tutorial.html\n",
    "# haven't really looked at that much yet. might help a lot"
   ]
  },
  {
   "cell_type": "code",
   "execution_count": 116,
   "metadata": {},
   "outputs": [
    {
     "name": "stdout",
     "output_type": "stream",
     "text": [
      "torch.Size([3, 426, 640])\n",
      "torch.Size([3, 640, 586])\n",
      "torch.Size([3, 483, 640])\n",
      "torch.Size([3, 500, 375])\n",
      "torch.Size([3, 640, 428])\n",
      "torch.Size([3, 425, 640])\n",
      "torch.Size([3, 640, 424])\n",
      "torch.Size([3, 640, 621])\n",
      "torch.Size([3, 427, 640])\n",
      "torch.Size([3, 480, 640])\n"
     ]
    },
    {
     "data": {
      "text/plain": [
       "tensor([[[0.6667, 0.6784, 0.6863,  ..., 0.2706, 0.2667, 0.2745],\n",
       "         [0.6745, 0.6902, 0.6941,  ..., 0.2706, 0.2824, 0.2784],\n",
       "         [0.6863, 0.6941, 0.6980,  ..., 0.2745, 0.2706, 0.2784],\n",
       "         ...,\n",
       "         [0.7373, 0.7176, 0.7569,  ..., 0.7294, 0.7294, 0.7333],\n",
       "         [0.7294, 0.7333, 0.7294,  ..., 0.7765, 0.7647, 0.7294],\n",
       "         [0.7294, 0.7333, 0.7294,  ..., 0.5059, 0.4941, 0.4196]],\n",
       "\n",
       "        [[0.5333, 0.5569, 0.5647,  ..., 0.2980, 0.2980, 0.2784],\n",
       "         [0.5529, 0.5686, 0.5725,  ..., 0.3020, 0.3137, 0.2941],\n",
       "         [0.5647, 0.5725, 0.5765,  ..., 0.3059, 0.3020, 0.2941],\n",
       "         ...,\n",
       "         [0.7412, 0.7176, 0.7333,  ..., 0.6157, 0.6157, 0.6118],\n",
       "         [0.7176, 0.7216, 0.7176,  ..., 0.5255, 0.4706, 0.3451],\n",
       "         [0.7176, 0.7216, 0.7176,  ..., 0.2353, 0.2235, 0.1608]],\n",
       "\n",
       "        [[0.2863, 0.3020, 0.3098,  ..., 0.1647, 0.1529, 0.1451],\n",
       "         [0.3020, 0.3137, 0.3176,  ..., 0.1569, 0.1686, 0.1569],\n",
       "         [0.3098, 0.3176, 0.3137,  ..., 0.1529, 0.1569, 0.1569],\n",
       "         ...,\n",
       "         [0.6157, 0.5843, 0.6000,  ..., 0.6000, 0.6000, 0.6039],\n",
       "         [0.5961, 0.6000, 0.5961,  ..., 0.5255, 0.4863, 0.3961],\n",
       "         [0.5882, 0.5922, 0.5961,  ..., 0.2471, 0.2353, 0.1765]]])"
      ]
     },
     "execution_count": 116,
     "metadata": {},
     "output_type": "execute_result"
    }
   ],
   "source": [
    "# Look at sizes\n",
    "for i in range(10):\n",
    "    print(coco_val[i][0].shape)\n",
    "coco_val[0][0] # 0th instance, 0 = image (1 = segmentation)"
   ]
  },
  {
   "cell_type": "code",
   "execution_count": 111,
   "metadata": {},
   "outputs": [
    {
     "name": "stdout",
     "output_type": "stream",
     "text": [
      "dict_keys(['boxes', 'labels', 'scores', 'masks'])\n",
      "number of boxes/labels 18\n"
     ]
    }
   ],
   "source": [
    "j = 14 # which image\n",
    "\n",
    "output = network(coco_val[j][0].unsqueeze(0))[0]\n",
    "print(output.keys())\n",
    "print(\"number of boxes/labels\", len(output['labels']))\n",
    "#output['boxes'][:5]"
   ]
  },
  {
   "cell_type": "code",
   "execution_count": 112,
   "metadata": {},
   "outputs": [
    {
     "name": "stdout",
     "output_type": "stream",
     "text": [
      "# of Boxes:  18\n",
      "Box #0 :  person\n",
      "Box #1 :  surfboard\n",
      "Box #5 :  surfboard\n",
      "Box #6 :  surfboard\n",
      "Box #7 :  boat\n",
      "Box #9 :  boat\n",
      "Box #10 :  boat\n"
     ]
    },
    {
     "data": {
      "text/plain": [
       "{'boat', 'person', 'surfboard'}"
      ]
     },
     "execution_count": 112,
     "metadata": {},
     "output_type": "execute_result"
    },
    {
     "data": {
      "image/png": "[encoded data removed]",
      "text/plain": [
       "<Figure size 432x288 with 2 Axes>"
      ]
     },
     "metadata": {
      "needs_background": "light"
     },
     "output_type": "display_data"
    }
   ],
   "source": [
    "# plot image with boxes\n",
    "image = coco_val[j][0]\n",
    "image = image.numpy().transpose(1, 2, 0)\n",
    "\n",
    "fig = plt.figure()\n",
    "\n",
    "# just image\n",
    "plt.subplot(1, 2, 1)\n",
    "plt.imshow(image)\n",
    "plt.axis('off')\n",
    "\n",
    "# image & boxes\n",
    "plt.subplot(1, 2, 2)\n",
    "plt.imshow(image)\n",
    "plt.axis('off')\n",
    "label_list = []\n",
    "print('# of Boxes: ', len(output['boxes']))\n",
    "for i in range(len(output['boxes'])): # go through each box\n",
    "    width = output['boxes'][i][2] - output['boxes'][i][0]\n",
    "    height = output['boxes'][i][3] - output['boxes'][i][1]\n",
    "    if height < 10 or width < 10: continue\n",
    "    # add a rectangle ((x,y), w, h)\n",
    "    fig.get_axes()[1].add_patch(matplotlib.patches.Rectangle((output['boxes'][i][0], output['boxes'][i][1]), \n",
    "                                width, height, fill=False, color='r', linewidth=1))\n",
    "    label_list.append(labels[output['labels'][i].item()])\n",
    "    print('Box #'+ str(i), \": \", labels[output['labels'][i].item()]) # print label of box\n",
    "    \n",
    "set(label_list) # all different labels"
   ]
  },
  {
   "cell_type": "code",
   "execution_count": null,
   "metadata": {},
   "outputs": [],
   "source": []
  }
 ],
 "metadata": {
  "kernelspec": {
   "display_name": "Python 3",
   "language": "python",
   "name": "python3"
  },
  "language_info": {
   "codemirror_mode": {
    "name": "ipython",
    "version": 3
   },
   "file_extension": ".py",
   "mimetype": "text/x-python",
   "name": "python",
   "nbconvert_exporter": "python",
   "pygments_lexer": "ipython3",
   "version": "3.6.9"
  }
 },
 "nbformat": 4,
 "nbformat_minor": 2
}
